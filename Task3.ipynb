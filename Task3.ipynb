{
 "cells": [
  {
   "cell_type": "markdown",
   "metadata": {},
   "source": [
    "## Задание 1\n",
    "Построить алгоритмы классификации для решения задачи классификации MNIST. \n",
    "1. Обучить модели (SVM, logisitic regression, decision tree, (дополнительные модели по желанию) на исходных данных;\n",
    "2. Использовать алгоритмы PCA и t-SNE для снижения размерности. Какое количество компонент необходимо, чтобы описать 90% дисперсии в PCA?\n",
    "3. Обучить те же модели на сниженном признаковом пространстве, Какой алгоритм снижения дает лучшие метрики точности моделей классификации? Есть ли улучшение относительно работы моделей на исходном признаковом пространстве?\n",
    "4. Оцените, какое количество времени требуется для препроцессинга PCA и t-SNE."
   ]
  },
  {
   "cell_type": "code",
   "execution_count": 1,
   "metadata": {},
   "outputs": [],
   "source": [
    "from timeit import default_timer as timer\n",
    "\n",
    "from sklearn.datasets import load_digits\n",
    "from sklearn.pipeline import Pipeline\n",
    "from sklearn.metrics import accuracy_score\n",
    "from sklearn.decomposition import PCA\n",
    "from sklearn.manifold import TSNE\n",
    "\n",
    "from sklearn.svm import SVC\n",
    "from sklearn.linear_model import LogisticRegression\n",
    "from sklearn.tree import DecisionTreeClassifier\n",
    "\n",
    "from sklearn.model_selection import train_test_split"
   ]
  },
  {
   "cell_type": "code",
   "execution_count": 2,
   "metadata": {},
   "outputs": [],
   "source": [
    "random_state = 12\n",
    "log_reg_max_iter = 10000\n",
    "\n",
    "X, y = load_digits(return_X_y=True)\n",
    "X_train, X_test, y_train, y_test = train_test_split(X, y, stratify=y)"
   ]
  },
  {
   "cell_type": "code",
   "execution_count": 3,
   "metadata": {},
   "outputs": [
    {
     "name": "stdout",
     "output_type": "stream",
     "text": [
      "SVC accuracy: 0.9866666666666667\n",
      "LogReg accuracy: 0.9688888888888889\n",
      "DecTree accuracy: 0.8666666666666667\n",
      "Time elapsed: 2.02589975\n"
     ]
    }
   ],
   "source": [
    "# пайплайны без предобработки\n",
    "basic_pipelines = [\n",
    "    (\"SVC\", Pipeline([(\"clf\", SVC(random_state=random_state))])),\n",
    "    (\"LogReg\", Pipeline([(\"clf\", LogisticRegression(random_state=random_state, max_iter=log_reg_max_iter))])),\n",
    "    (\"DecTree\", Pipeline([(\"clf\", DecisionTreeClassifier(random_state=random_state))])),\n",
    "]\n",
    "\n",
    "basic_predicts = []\n",
    "\n",
    "start = timer()\n",
    "\n",
    "for name, pipeline in basic_pipelines:\n",
    "    pipeline.fit(X_train, y_train)\n",
    "    predict = pipeline.predict(X_test)\n",
    "    # сразу посчитаем метрики\n",
    "    print(f\"{name} accuracy: {accuracy_score(y_true=y_test, y_pred=predict)}\")\n",
    "    basic_predicts.append((name, predict))\n",
    "\n",
    "end = timer()\n",
    "print(f\"Time elapsed: {end - start}\")\n",
    "    "
   ]
  },
  {
   "cell_type": "code",
   "execution_count": 4,
   "metadata": {},
   "outputs": [
    {
     "name": "stdout",
     "output_type": "stream",
     "text": [
      "SVC accuracy (with PCA): 0.9911111111111112\n",
      "LogReg accuracy (with PCA): 0.9577777777777777\n",
      "DecTree accuracy (with PCA): 0.8577777777777778\n",
      "Time elapsed: 1.7567465830000004\n"
     ]
    }
   ],
   "source": [
    "# используем понижение размерности (PCA)\n",
    "\n",
    "def pca():\n",
    "    return PCA(random_state=random_state, n_components=0.90)\n",
    "\n",
    "pca_pipelines = [\n",
    "    (\"SVC\", Pipeline([(\"pca\", pca()), (\"clf\", SVC(random_state=random_state))])),\n",
    "    (\"LogReg\", Pipeline([(\"pca\", pca()), (\"clf\", LogisticRegression(random_state=random_state, max_iter=log_reg_max_iter))])),\n",
    "    (\"DecTree\", Pipeline([(\"pca\", pca()), (\"clf\", DecisionTreeClassifier(random_state=random_state))])),\n",
    "]\n",
    "\n",
    "start = timer()\n",
    "for name, pipeline in pca_pipelines:\n",
    "    pipeline.fit(X_train, y_train)\n",
    "    predict = pipeline.predict(X_test)\n",
    "    # сразу посчитаем метрики\n",
    "    print(f\"{name} accuracy (with PCA): {accuracy_score(y_true=y_test, y_pred=predict)}\")\n",
    "end = timer()\n",
    "print(f\"Time elapsed: {end - start}\")"
   ]
  },
  {
   "cell_type": "code",
   "execution_count": 5,
   "metadata": {},
   "outputs": [
    {
     "data": {
      "text/plain": [
       "21"
      ]
     },
     "execution_count": 5,
     "metadata": {},
     "output_type": "execute_result"
    }
   ],
   "source": [
    "# число компонент для 90% дисперсии \n",
    "pca_pipelines[0][1]['pca'].n_components_"
   ]
  },
  {
   "cell_type": "code",
   "execution_count": 6,
   "metadata": {},
   "outputs": [
    {
     "name": "stdout",
     "output_type": "stream",
     "text": [
      "SVC accuracy (with TSNE): 0.9755555555555555\n",
      "LogReg accuracy (with TSNE): 0.9288888888888889\n",
      "DecTree accuracy (with TSNE): 0.9866666666666667\n",
      "Time elapsed: 5.635096374999999\n"
     ]
    }
   ],
   "source": [
    "# используем понижение размерности (TSNE)\n",
    "# у TSNE из sk-learn нет метода transform, поэтому его \n",
    "# не получится использовать в пайплайне напрямую\n",
    "\n",
    "start = timer()\n",
    "tsne = TSNE(random_state=random_state)\n",
    "\n",
    "X_processed = tsne.fit_transform(X)\n",
    "X_train, X_test, y_train, y_test = train_test_split(X_processed, y, stratify=y)\n",
    "\n",
    "tsne_pipelines = [\n",
    "    (\"SVC\", Pipeline([(\"clf\", SVC(random_state=random_state))])),\n",
    "    (\"LogReg\", Pipeline([(\"clf\", LogisticRegression(random_state=random_state, max_iter=log_reg_max_iter))])),\n",
    "    (\"DecTree\", Pipeline([(\"clf\", DecisionTreeClassifier(random_state=random_state))])),\n",
    "]\n",
    "\n",
    "for name, pipeline in tsne_pipelines:\n",
    "    pipeline.fit(X_train, y_train)\n",
    "    predict = pipeline.predict(X_test)\n",
    "    print(f\"{name} accuracy (with TSNE): {accuracy_score(y_true=y_test, y_pred=predict)}\")\n",
    "\n",
    "end = timer()\n",
    "print(f\"Time elapsed: {end - start}\")\n",
    "    "
   ]
  },
  {
   "cell_type": "markdown",
   "metadata": {},
   "source": [
    "Выводы:\n",
    "1. Использование PCA и TSNE привело к снижению accuracy для LogReg и DecisionTree; для PCA в меньшей степени, чем для TSNE\n",
    "2. TSNE намного более вычислительно тяжелый метод, время выполнения отличается в 2 раза "
   ]
  }
 ],
 "metadata": {
  "kernelspec": {
   "display_name": "Python 3",
   "language": "python",
   "name": "python3"
  },
  "language_info": {
   "codemirror_mode": {
    "name": "ipython",
    "version": 3
   },
   "file_extension": ".py",
   "mimetype": "text/x-python",
   "name": "python",
   "nbconvert_exporter": "python",
   "pygments_lexer": "ipython3",
   "version": "3.9.6"
  }
 },
 "nbformat": 4,
 "nbformat_minor": 2
}
